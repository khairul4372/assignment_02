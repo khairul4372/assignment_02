{
 "cells": [
  {
   "cell_type": "markdown",
   "id": "f24de4b1",
   "metadata": {},
   "source": [
    "1. Write a program that swaps the values of two variables."
   ]
  },
  {
   "cell_type": "code",
   "execution_count": 1,
   "id": "a77674f1-e8e5-4d59-b4dc-70c2c82249d7",
   "metadata": {},
   "outputs": [
    {
     "name": "stdout",
     "output_type": "stream",
     "text": [
      "x = 10\n",
      "y = 5\n"
     ]
    }
   ],
   "source": [
    "x = 5\n",
    "y = 10\n",
    "\n",
    "x, y = y, x\n",
    "print(\"x =\", x)\n",
    "print(\"y =\", y)"
   ]
  },
  {
   "cell_type": "markdown",
   "id": "8216b768",
   "metadata": {},
   "source": [
    "2. Write a program that calculates the area of a rectangle given its length and width."
   ]
  },
  {
   "cell_type": "code",
   "execution_count": 3,
   "id": "d8e6f999",
   "metadata": {},
   "outputs": [
    {
     "name": "stdout",
     "output_type": "stream",
     "text": [
      "Enter the length of the rectangle: 10\n",
      "Enter the width of the rectangle: 20\n",
      "The area of the rectangle is: 200.0\n"
     ]
    }
   ],
   "source": [
    "length = float(input(\"Enter the length of the rectangle: \"))\n",
    "width = float(input(\"Enter the width of the rectangle: \"))\n",
    "if length <= 0 or width <= 0:\n",
    "    print(\"Please enter positive values for length and width.\")\n",
    "else:\n",
    "    area = length* width\n",
    "    print(\"The area of the rectangle is:\", area)"
   ]
  },
  {
   "cell_type": "markdown",
   "id": "3882cf2b",
   "metadata": {},
   "source": [
    "3. Write a program that converts temperature from Fahrenheit to Celsius."
   ]
  },
  {
   "cell_type": "code",
   "execution_count": null,
   "id": "a136b556",
   "metadata": {},
   "outputs": [],
   "source": []
  },
  {
   "cell_type": "code",
   "execution_count": 4,
   "id": "579c9112",
   "metadata": {},
   "outputs": [
    {
     "name": "stdout",
     "output_type": "stream",
     "text": [
      "Enter the Temperature on Celsius scale.10\n",
      "The temperature on Fahrenheit Scale is:\n",
      "50.0\n"
     ]
    }
   ],
   "source": [
    "Celsius=int(input('Enter the Temperature on Celsius scale.')) \n",
    "\n",
    "Fahrenheit = (180*Celsius/100)+32\n",
    "\n",
    "print(\"The temperature on Fahrenheit Scale is:\") \n",
    "print(Fahrenheit)"
   ]
  },
  {
   "cell_type": "markdown",
   "id": "d5607338",
   "metadata": {},
   "source": [
    "4. Write a program that calculates the volume of a sphere given its radius."
   ]
  },
  {
   "cell_type": "code",
   "execution_count": 6,
   "id": "2e80a04a",
   "metadata": {},
   "outputs": [
    {
     "name": "stdout",
     "output_type": "stream",
     "text": [
      "Radius of sphere: 2\n",
      "Surface Area is:  50.285714285714285\n",
      "Volume is:  33.52380952380952\n"
     ]
    }
   ],
   "source": [
    "pi=22/7\n",
    "radian = float(input('Radius of sphere: '))\n",
    "sur_area = 4 * pi * radian **2\n",
    "volume = (4/3) * (pi * radian ** 3)\n",
    "print(\"Surface Area is: \", sur_area)\n",
    "print(\"Volume is: \", volume)"
   ]
  },
  {
   "cell_type": "markdown",
   "id": "60df2ba1",
   "metadata": {},
   "source": [
    "5. Write a program that finds the average of three numbers."
   ]
  },
  {
   "cell_type": "code",
   "execution_count": 7,
   "id": "793eb5df",
   "metadata": {},
   "outputs": [
    {
     "name": "stdout",
     "output_type": "stream",
     "text": [
      " Please Enter the First Number: 2\n",
      " Please Enter the second number: 3\n",
      " Please Enter the third number: 4\n",
      "The average of three numbers is  3.0\n"
     ]
    }
   ],
   "source": [
    "a = int (input(\" Please Enter the First Number: \")) \n",
    "\n",
    "b = int (input(\" Please Enter the second number: \"))\n",
    "\n",
    "c = int (input(\" Please Enter the third number: \"))\n",
    "\n",
    "average=(a+b+c)/3\n",
    "\n",
    "print(\"The average of three numbers is \", average)"
   ]
  },
  {
   "cell_type": "markdown",
   "id": "38170e45",
   "metadata": {},
   "source": [
    "6. Write a program that determines if a number is even or odd."
   ]
  },
  {
   "cell_type": "code",
   "execution_count": 19,
   "id": "4fbefe5e",
   "metadata": {},
   "outputs": [
    {
     "name": "stdout",
     "output_type": "stream",
     "text": [
      "Enter a number to test whether it is odd or even:9\n",
      "The provided number is odd\n"
     ]
    }
   ],
   "source": [
    "num = int (input ('Enter a number to test whether it is odd or even:'))\n",
    "\n",
    "if (num % 2) == 0:\n",
    "\n",
    "    print ('The number is even')\n",
    "\n",
    "else:\n",
    "\n",
    "    print ('The provided number is odd')\n",
    "\n"
   ]
  },
  {
   "cell_type": "markdown",
   "id": "58eb46c1",
   "metadata": {},
   "source": [
    "7. Write a program that finds the maximum of three numbers."
   ]
  },
  {
   "cell_type": "code",
   "execution_count": 20,
   "id": "59adf5de",
   "metadata": {},
   "outputs": [
    {
     "name": "stdout",
     "output_type": "stream",
     "text": [
      "ENTER 1st NUMBER\n",
      "1\n",
      "ENTER 2nd NUMBER\n",
      "2\n",
      "ENTER 3rd NUMBER\n",
      "3\n",
      "3\n"
     ]
    }
   ],
   "source": [
    "def maximum(a, b, c) :\n",
    "    if a > b and a > c:\n",
    "        return a\n",
    "    elif b > a and b > c:\n",
    "        return b\n",
    "    else:\n",
    "        return c\n",
    "\n",
    "a = input(\"ENTER 1st NUMBER\\n\")\n",
    "b = input(\"ENTER 2nd NUMBER\\n\")\n",
    "c = input(\"ENTER 3rd NUMBER\\n\")\n",
    "print(maximum(a, b, c))"
   ]
  },
  {
   "cell_type": "markdown",
   "id": "676327ba",
   "metadata": {},
   "source": [
    "8. Write a program that determines if a year is a leap year or not."
   ]
  },
  {
   "cell_type": "code",
   "execution_count": 27,
   "id": "4be70a79",
   "metadata": {},
   "outputs": [
    {
     "name": "stdout",
     "output_type": "stream",
     "text": [
      "Enter year: 2000\n",
      "Leap Year\n"
     ]
    }
   ],
   "source": [
    "def check_year(year):\n",
    "    # Leap year condition: \n",
    "    # 1. If the year is divisible by 4 and not divisible by 100, or\n",
    "    # 2. If the year is divisible by 400.\n",
    "    if (year % 4 == 0 and year % 100 != 0) or (year % 400 == 0):\n",
    "        return True  # It's a leap year\n",
    "    else:\n",
    "        return False  # It's not a leap year\n",
    " \n",
    "year = int(input('Enter year: '))  \n",
    " \n",
    "if check_year(year):\n",
    "    print(\"Leap Year\")\n",
    "else:\n",
    "    print(\"Not a Leap Year\")"
   ]
  },
  {
   "cell_type": "markdown",
   "id": "b22f47ce",
   "metadata": {},
   "source": [
    "9. Write a program that determines if a number is positive, negative, or zero."
   ]
  },
  {
   "cell_type": "code",
   "execution_count": 29,
   "id": "f0a02cc1",
   "metadata": {},
   "outputs": [
    {
     "name": "stdout",
     "output_type": "stream",
     "text": [
      "Input a number: 9\n",
      "It is a positive number\n"
     ]
    }
   ],
   "source": [
    "num = float(input(\"Input a number: \"))\n",
    "\n",
    "\n",
    "if num > 0:\n",
    "   print(\"It is a positive number\")\n",
    "elif num == 0:\n",
    "   print(\"It is zero\")\n",
    "else:\n",
    "   print(\"It is a negative number\")"
   ]
  },
  {
   "cell_type": "markdown",
   "id": "b6601d32",
   "metadata": {},
   "source": [
    "10. Write a program that calculates the grade based on a given percentage."
   ]
  },
  {
   "cell_type": "code",
   "execution_count": 32,
   "id": "11652ed3",
   "metadata": {},
   "outputs": [
    {
     "name": "stdout",
     "output_type": "stream",
     "text": [
      "Enter Marks Obtained in 5 Subjects: \n",
      "Enter 1st subject number: 98\n",
      "Enter 2nd subject number: 6\n",
      "Enter 3rd subject number: 56\n",
      "Enter 4th subject number: 76\n",
      "Enter 5th subject number: 456\n",
      "Your Grade is A-\n"
     ]
    }
   ],
   "source": [
    "print(\"Enter Marks Obtained in 5 Subjects: \")\n",
    "sub1 = int(input('Enter 1st subject number: '))\n",
    "sub2 = int(input('Enter 2nd subject number: '))\n",
    "sub3 = int(input('Enter 3rd subject number: '))\n",
    "sub4 = int(input('Enter 4th subject number: '))\n",
    "sub5 = int(input('Enter 5th subject number: '))\n",
    "\n",
    " \n",
    "total = sub1 + sub2 + sub3 + sub4 + sub4\n",
    "avg = total / 5\n",
    " \n",
    "if avg >= 80 and avg <= 100:\n",
    "    print(\"Your Grade is A+\")\n",
    "elif avg >= 70 and avg < 79:\n",
    "    print(\"Your Grade is A\")\n",
    "elif avg >= 60 and avg < 69:\n",
    "    print(\"Your Grade is A-\")\n",
    "elif avg >= 50 and avg < 59:\n",
    "    print(\"Your Grade is B\")\n",
    "elif avg >= 40 and avg < 49:\n",
    "    print(\"Your Grade is C\")\n",
    "elif avg >= 33 and avg < 39:\n",
    "    print(\"Your Grade is D\")\n",
    "elif avg >= 0 and avg < 32:\n",
    "    print(\"Your Failed\")\n",
    "else:\n",
    "    print(\"Invalid Input!\")"
   ]
  },
  {
   "cell_type": "markdown",
   "id": "c17ce292",
   "metadata": {},
   "source": [
    "11. Write a program that prints the first `n` natural numbers."
   ]
  },
  {
   "cell_type": "code",
   "execution_count": 34,
   "id": "5ee7d253",
   "metadata": {},
   "outputs": [
    {
     "name": "stdout",
     "output_type": "stream",
     "text": [
      "Enter a number: 4\n",
      "30\n"
     ]
    }
   ],
   "source": [
    "def squaresum(n):\n",
    "    sm = 0\n",
    "    for i in range(1, n+1):\n",
    "        sm = sm + (i * i)\n",
    " \n",
    "    return sm\n",
    " \n",
    " \n",
    "\n",
    "n = int(input('Enter a number: '))\n",
    "print(squaresum(n))"
   ]
  },
  {
   "cell_type": "markdown",
   "id": "2cf75da8",
   "metadata": {},
   "source": [
    "12. Write a program that calculates the factorial of a number."
   ]
  },
  {
   "cell_type": "code",
   "execution_count": 35,
   "id": "6f6183da",
   "metadata": {},
   "outputs": [
    {
     "name": "stdout",
     "output_type": "stream",
     "text": [
      "Enter a number: 5\n",
      "Factorial of 5 is 120\n"
     ]
    }
   ],
   "source": [
    "def factorial(n):\n",
    "    return 1 if (n==1 or n==0) else n * factorial(n - 1) \n",
    " \n",
    "\n",
    "num = int(input('Enter a number: '))\n",
    "print(\"Factorial of\",num,\"is\",factorial(num))"
   ]
  },
  {
   "cell_type": "markdown",
   "id": "a8cb4f69",
   "metadata": {},
   "source": [
    "13. Write a program that generates a Fibonacci sequence of length `n`."
   ]
  },
  {
   "cell_type": "code",
   "execution_count": 36,
   "id": "ba415b4b",
   "metadata": {},
   "outputs": [
    {
     "name": "stdout",
     "output_type": "stream",
     "text": [
      "Enter a number: 5\n",
      "2\n"
     ]
    }
   ],
   "source": [
    "def Fibonacci(n):\n",
    "    if n<= 0:\n",
    "        print(\"Incorrect input\")\n",
    "    # First Fibonacci number is 0\n",
    "    elif n == 1:\n",
    "        return 0\n",
    "    # Second Fibonacci number is 1\n",
    "    elif n == 2:\n",
    "        return 1\n",
    "    else:\n",
    "        return Fibonacci(n-1)+Fibonacci(n-2)\n",
    " \n",
    "num = int(input('Enter a number: ')) \n",
    "print(Fibonacci(n))"
   ]
  },
  {
   "cell_type": "markdown",
   "id": "c228bc57",
   "metadata": {},
   "source": [
    "14. Write a program that checks if a given number is prime or not."
   ]
  },
  {
   "cell_type": "code",
   "execution_count": 37,
   "id": "6db9f314",
   "metadata": {},
   "outputs": [
    {
     "name": "stdout",
     "output_type": "stream",
     "text": [
      "Enter a number: 11\n",
      "11 is a prime number\n"
     ]
    }
   ],
   "source": [
    "num = int(input('Enter a number: ')) \n",
    "# If given number is greater than 1\n",
    "if num > 1:\n",
    "    # Iterate from 2 to n / 2\n",
    "    for i in range(2, int(num/2)+1):\n",
    "        # If num is divisible by any number between\n",
    "        # 2 and n / 2, it is not prime\n",
    "        if (num % i) == 0:\n",
    "            print(num, \"is not a prime number\")\n",
    "            break\n",
    "    else:\n",
    "        print(num, \"is a prime number\")\n",
    "else:\n",
    "    print(num, \"is not a prime number\")"
   ]
  },
  {
   "cell_type": "markdown",
   "id": "ba7f39e3",
   "metadata": {},
   "source": [
    "15. Write a program that prints the multiplication table of a given number."
   ]
  },
  {
   "cell_type": "code",
   "execution_count": 40,
   "id": "9d19257d",
   "metadata": {},
   "outputs": [
    {
     "name": "stdout",
     "output_type": "stream",
     "text": [
      "Enter a number: 4\n",
      "4 * 1 = 4\n",
      "4 * 2 = 8\n",
      "4 * 3 = 12\n",
      "4 * 4 = 16\n",
      "4 * 5 = 20\n",
      "4 * 6 = 24\n",
      "4 * 7 = 28\n",
      "4 * 8 = 32\n",
      "4 * 9 = 36\n",
      "4 * 10 = 40\n"
     ]
    }
   ],
   "source": [
    "def table(n):\n",
    "    for i in range (1, 11): \n",
    "         \n",
    "        # multiples from 1 to 10\n",
    "        print (\"%d * %d = %d\" % (n, i, n * i))\n",
    " \n",
    "# number for which table is evaluated\n",
    "n = int(input('Enter a number: '))\n",
    "table(n)"
   ]
  },
  {
   "cell_type": "markdown",
   "id": "737bbd39",
   "metadata": {},
   "source": [
    "16. Write a program that finds the sum of all even numbers between 1 and `n`."
   ]
  },
  {
   "cell_type": "code",
   "execution_count": 43,
   "id": "4fe6f3bb",
   "metadata": {},
   "outputs": [
    {
     "name": "stdout",
     "output_type": "stream",
     "text": [
      "Enter a number: 3\n",
      "Sum of all the even numbers is 2\n"
     ]
    }
   ],
   "source": [
    "num = int(input('Enter a number: '))\n",
    "sum = 0\n",
    "i = 0\n",
    "while i <= num:\n",
    "    if i % 2 == 0:\n",
    "        sum+=i\n",
    "    i+=1\n",
    "print(f\"Sum of all the even numbers is {sum}\")"
   ]
  },
  {
   "cell_type": "markdown",
   "id": "3db926ae",
   "metadata": {},
   "source": [
    "17. Write a program that reverses a given number."
   ]
  },
  {
   "cell_type": "code",
   "execution_count": 45,
   "id": "523d773b",
   "metadata": {},
   "outputs": [
    {
     "name": "stdout",
     "output_type": "stream",
     "text": [
      "Enter a number: 345\n",
      "Reversed Number: 543\n"
     ]
    }
   ],
   "source": [
    "num = int(input('Enter a number: '))\n",
    "reversed_num = 0\n",
    "\n",
    "while num != 0:\n",
    "    digit = num % 10\n",
    "    reversed_num = reversed_num * 10 + digit\n",
    "    num //= 10\n",
    "\n",
    "print(\"Reversed Number: \" + str(reversed_num))"
   ]
  },
  {
   "cell_type": "markdown",
   "id": "757a0094",
   "metadata": {},
   "source": [
    "18. Write a program that checks if a given string is a palindrome."
   ]
  },
  {
   "cell_type": "code",
   "execution_count": 47,
   "id": "e1299024",
   "metadata": {},
   "outputs": [
    {
     "name": "stdout",
     "output_type": "stream",
     "text": [
      "Enter a word: hello\n",
      "No\n"
     ]
    }
   ],
   "source": [
    "def isPalindrome(s):\n",
    "    return s == s[::-1]\n",
    " \n",
    " \n",
    "s = input('Enter a word: ')\n",
    "ans = isPalindrome(s)\n",
    " \n",
    "if ans:\n",
    "    print(\"Yes\")\n",
    "else:\n",
    "    print(\"No\")"
   ]
  },
  {
   "cell_type": "markdown",
   "id": "c5c56752",
   "metadata": {},
   "source": [
    "19. Write a program that generates a random number and allows the user to guess it."
   ]
  },
  {
   "cell_type": "code",
   "execution_count": 48,
   "id": "d2ff09eb",
   "metadata": {},
   "outputs": [
    {
     "name": "stdout",
     "output_type": "stream",
     "text": [
      "Enter Lower bound:- 3\n",
      "Enter Upper bound:- 9\n",
      "\n",
      "\tYou've only  3  chances to guess the integer!\n",
      "\n",
      "Guess a number:- 5\n",
      "You guessed too small!\n",
      "Guess a number:- 7\n",
      "Congratulations you did it in  2  try\n"
     ]
    }
   ],
   "source": [
    "import random\n",
    "import math\n",
    "# Taking Inputs\n",
    "lower = int(input(\"Enter Lower bound:- \"))\n",
    " \n",
    "# Taking Inputs\n",
    "upper = int(input(\"Enter Upper bound:- \"))\n",
    " \n",
    "# generating random number between\n",
    "# the lower and upper\n",
    "x = random.randint(lower, upper)\n",
    "print(\"\\n\\tYou've only \", \n",
    "       round(math.log(upper - lower + 1, 2)),\n",
    "      \" chances to guess the integer!\\n\")\n",
    " \n",
    "# Initializing the number of guesses.\n",
    "count = 0\n",
    " \n",
    "# for calculation of minimum number of\n",
    "# guesses depends upon range\n",
    "while count < math.log(upper - lower + 1, 2):\n",
    "    count += 1\n",
    " \n",
    "    # taking guessing number as input\n",
    "    guess = int(input(\"Guess a number:- \"))\n",
    " \n",
    "    # Condition testing\n",
    "    if x == guess:\n",
    "        print(\"Congratulations you did it in \",\n",
    "              count, \" try\")\n",
    "        # Once guessed, loop will break\n",
    "        break\n",
    "    elif x > guess:\n",
    "        print(\"You guessed too small!\")\n",
    "    elif x < guess:\n",
    "        print(\"You Guessed too high!\")\n",
    " \n",
    "# If Guessing is more than required guesses,\n",
    "# shows this output.\n",
    "if count >= math.log(upper - lower + 1, 2):\n",
    "    print(\"\\nThe number is %d\" % x)\n",
    "    print(\"\\tBetter Luck Next time!\")\n",
    " "
   ]
  },
  {
   "cell_type": "markdown",
   "id": "15a232e7",
   "metadata": {},
   "source": [
    "20. Write a program that finds the greatest common divisor (GCD) of two numbers."
   ]
  },
  {
   "cell_type": "code",
   "execution_count": 56,
   "id": "e7cc3ceb",
   "metadata": {},
   "outputs": [
    {
     "name": "stdout",
     "output_type": "stream",
     "text": [
      "Enter 1st number: 60\n",
      "Enter 2nd number: 48\n",
      "The gcd of 60 and 48 is : 12\n"
     ]
    }
   ],
   "source": [
    "def hcf(a, b):\n",
    "    if(b == 0):\n",
    "        return a\n",
    "    else:\n",
    "        return hcf(b, a % b)\n",
    " \n",
    "a = int(input('Enter 1st number: '))\n",
    "b = int(input('Enter 2nd number: '))\n",
    " \n",
    "# prints \n",
    "print(\"The gcd of %d and %d is : \"% (a, b) , end=\"\")\n",
    "print(hcf(a, b))"
   ]
  },
  {
   "cell_type": "code",
   "execution_count": null,
   "id": "79eff0ad",
   "metadata": {},
   "outputs": [],
   "source": []
  }
 ],
 "metadata": {
  "kernelspec": {
   "display_name": "Python 3 (ipykernel)",
   "language": "python",
   "name": "python3"
  },
  "language_info": {
   "codemirror_mode": {
    "name": "ipython",
    "version": 3
   },
   "file_extension": ".py",
   "mimetype": "text/x-python",
   "name": "python",
   "nbconvert_exporter": "python",
   "pygments_lexer": "ipython3",
   "version": "3.9.12"
  }
 },
 "nbformat": 4,
 "nbformat_minor": 5
}
